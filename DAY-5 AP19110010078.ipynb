{
 "cells": [
  {
   "cell_type": "markdown",
   "metadata": {},
   "source": [
    "**DAY 5 AP19110010078**\n",
    "\n",
    "Task: • Write a Python program to sum all the items in a list.\n",
    "\n",
    "• Write a Python program to convert a list of characters into a string\n",
    "\n",
    "• program to put even and odd elements in a list into two different lists\n",
    "\n",
    "• Write a Python program to remove duplicates from a list\n",
    "\n",
    "• Write a Python program to check a list is empty or not.\n",
    "\n",
    "• Write a Python program to print a specified list after removing the O th, 4th and 5th elements.\n",
    "\n",
    "• Write a Python function that takes two lists and returns True if they have at least one common member."
   ]
  },
  {
   "cell_type": "code",
   "execution_count": 1,
   "metadata": {},
   "outputs": [
    {
     "name": "stdout",
     "output_type": "stream",
     "text": [
      "sum of all the items in the list: 3500\n"
     ]
    }
   ],
   "source": [
    "t=[350,400,450,500,550,600,650]\n",
    "print('sum of all the items in the list:',sum(t))"
   ]
  },
  {
   "cell_type": "code",
   "execution_count": 3,
   "metadata": {},
   "outputs": [
    {
     "data": {
      "text/plain": [
       "'My name is Jaynica'"
      ]
     },
     "execution_count": 3,
     "metadata": {},
     "output_type": "execute_result"
    }
   ],
   "source": [
    "a= ['My','name','is','Jaynica']\n",
    "' '.join(a)"
   ]
  },
  {
   "cell_type": "code",
   "execution_count": 5,
   "metadata": {},
   "outputs": [
    {
     "name": "stdout",
     "output_type": "stream",
     "text": [
      "[52, 998, 38, 54, 98]\n",
      "[25, 57, 93]\n"
     ]
    }
   ],
   "source": [
    "j= [52,998,25,38,57,54,93,98]\n",
    "even= []\n",
    "odd= []\n",
    "for i in j:\n",
    "    if i%2==0:\n",
    "        even.append(i)\n",
    "    else:\n",
    "        odd.append(i)\n",
    "print(even)\n",
    "print(odd)"
   ]
  },
  {
   "cell_type": "code",
   "execution_count": 7,
   "metadata": {},
   "outputs": [
    {
     "name": "stdout",
     "output_type": "stream",
     "text": [
      "[2, 4, 10, 15, 5, 20]\n"
     ]
    }
   ],
   "source": [
    "def Remove(duplicate):\n",
    "    final_list = []\n",
    "    for num in duplicate:\n",
    "        if num not in final_list:\n",
    "            final_list.append(num)\n",
    "    return final_list\n",
    "     \n",
    "# Driver Code\n",
    "duplicate = [2, 4, 10, 15, 5, 2, 20, 4]\n",
    "print(Remove(duplicate))\n"
   ]
  },
  {
   "cell_type": "code",
   "execution_count": 8,
   "metadata": {},
   "outputs": [
    {
     "name": "stdout",
     "output_type": "stream",
     "text": [
      "The list is empty\n"
     ]
    }
   ],
   "source": [
    "\n",
    "c= []\n",
    "if len(c)==0:\n",
    "    print('The list is empty')\n",
    "else:\n",
    "    print('The list is not empty')"
   ]
  },
  {
   "cell_type": "code",
   "execution_count": 9,
   "metadata": {},
   "outputs": [
    {
     "name": "stdout",
     "output_type": "stream",
     "text": [
      "[98, 77, 76, 365, 722]\n"
     ]
    }
   ],
   "source": [
    "d = [1,98,77,76,365,875,722,958]\n",
    "del d[0]\n",
    "del d[4]\n",
    "del d[5]\n",
    "print(d)"
   ]
  },
  {
   "cell_type": "code",
   "execution_count": 10,
   "metadata": {},
   "outputs": [
    {
     "name": "stdout",
     "output_type": "stream",
     "text": [
      "False\n"
     ]
    }
   ],
   "source": [
    "def common(x,y):\n",
    "    flag = False\n",
    "    for i in x:\n",
    "        if (i in y):\n",
    "            flag = True\n",
    "        else:\n",
    "            pass\n",
    "        return flag\n",
    "    \n",
    "x= [5,6,7,8]\n",
    "y= [1,2,3,4]\n",
    "print(common(x,y))"
   ]
  },
  {
   "cell_type": "code",
   "execution_count": 11,
   "metadata": {},
   "outputs": [
    {
     "name": "stdout",
     "output_type": "stream",
     "text": [
      "True\n"
     ]
    }
   ],
   "source": [
    "def common(x,y):\n",
    "    flag = False\n",
    "    for i in x:\n",
    "        if (i in y):\n",
    "            flag = True\n",
    "        else:\n",
    "            pass\n",
    "        return flag\n",
    "    \n",
    "x= [1,5,6,7]\n",
    "y= [1,2,3,4]\n",
    "print(common(x,y))"
   ]
  },
  {
   "cell_type": "code",
   "execution_count": null,
   "metadata": {},
   "outputs": [],
   "source": []
  }
 ],
 "metadata": {
  "kernelspec": {
   "display_name": "Python 3",
   "language": "python",
   "name": "python3"
  },
  "language_info": {
   "codemirror_mode": {
    "name": "ipython",
    "version": 3
   },
   "file_extension": ".py",
   "mimetype": "text/x-python",
   "name": "python",
   "nbconvert_exporter": "python",
   "pygments_lexer": "ipython3",
   "version": "3.7.3"
  }
 },
 "nbformat": 4,
 "nbformat_minor": 2
}
