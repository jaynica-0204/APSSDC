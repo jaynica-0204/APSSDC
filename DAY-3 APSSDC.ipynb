{
 "cells": [
  {
   "cell_type": "markdown",
   "metadata": {},
   "source": [
    "**DAY-3 AP19110010078**\n",
    "\n",
    "if the value starts with \"01\" -> 'CSE Dept'\n",
    "\n",
    "elif value satrts with '11'-> 'IT Dept'\n",
    "\n",
    "elif value starts with \"21\" -> 'ECE Dept'\n",
    "\n",
    "else not an SRM Student\n"
   ]
  },
  {
   "cell_type": "code",
   "execution_count": 3,
   "metadata": {},
   "outputs": [
    {
     "name": "stdout",
     "output_type": "stream",
     "text": [
      "Enter your roll number:AP19110010017\n",
      "CSE department\n"
     ]
    }
   ],
   "source": [
    "str= input(\"Enter your roll number:\")\n",
    "if str[-3:].startswith('01'):\n",
    "    print('CSE department')\n",
    "elif str[-3:].startswith('11'):\n",
    "    print('IT department')\n",
    "elif str[-3:].startswith('21'):\n",
    "    print('ECE department')\n",
    "else:\n",
    "    print(\"Not a SRM student\")"
   ]
  },
  {
   "cell_type": "code",
   "execution_count": 4,
   "metadata": {},
   "outputs": [
    {
     "name": "stdout",
     "output_type": "stream",
     "text": [
      "Enter your roll number:AP19110010213\n",
      "ECE department\n"
     ]
    }
   ],
   "source": [
    "str= input(\"Enter your roll number:\")\n",
    "if str[-3:].startswith('01'):\n",
    "    print('CSE department')\n",
    "    \n",
    "elif str[-3:].startswith('11'):\n",
    "    print('IT department')\n",
    "elif str[-3:].startswith('21'):\n",
    "    print('ECE department')\n",
    "else:\n",
    "    print(\"Not a SRM student\")"
   ]
  },
  {
   "cell_type": "code",
   "execution_count": 5,
   "metadata": {},
   "outputs": [
    {
     "name": "stdout",
     "output_type": "stream",
     "text": [
      "Enter your roll number:AP19110010275\n",
      "Not a SRM student\n"
     ]
    }
   ],
   "source": [
    "str= input(\"Enter your roll number:\")\n",
    "if str[-3:].startswith('01'):\n",
    "    print('CSE department')\n",
    "    \n",
    "elif str[-3:].startswith('11'):\n",
    "    print('IT department')\n",
    "elif str[-3:].startswith('21'):\n",
    "    print('ECE department')\n",
    "else:\n",
    "    print(\"Not a SRM student\")"
   ]
  },
  {
   "cell_type": "code",
   "execution_count": 6,
   "metadata": {},
   "outputs": [
    {
     "name": "stdout",
     "output_type": "stream",
     "text": [
      "Enter your roll number:AP19110010113\n",
      "IT department\n"
     ]
    }
   ],
   "source": [
    "str= input(\"Enter your roll number:\")\n",
    "if str[-3:].startswith('01'):\n",
    "    print('CSE department')\n",
    "    \n",
    "elif str[-3:].startswith('11'):\n",
    "    print('IT department')\n",
    "elif str[-3:].startswith('21'):\n",
    "    print('ECE department')\n",
    "else:\n",
    "    print(\"Not a SRM student\")"
   ]
  },
  {
   "cell_type": "code",
   "execution_count": null,
   "metadata": {},
   "outputs": [],
   "source": []
  }
 ],
 "metadata": {
  "kernelspec": {
   "display_name": "Python 3",
   "language": "python",
   "name": "python3"
  },
  "language_info": {
   "codemirror_mode": {
    "name": "ipython",
    "version": 3
   },
   "file_extension": ".py",
   "mimetype": "text/x-python",
   "name": "python",
   "nbconvert_exporter": "python",
   "pygments_lexer": "ipython3",
   "version": "3.7.3"
  }
 },
 "nbformat": 4,
 "nbformat_minor": 2
}
